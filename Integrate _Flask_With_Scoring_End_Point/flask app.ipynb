{
  "cells": [
    {
      "cell_type": "code",
      "source": [
        "import numpy as np\n",
        "from flask import Flask, request, jsonify, render_template\n",
        "import joblib\n",
        "import random"
      ],
      "metadata": {
        "id": "nzHwr_oJGjMx"
      },
      "execution_count": 13,
      "outputs": []
    },
    {
      "cell_type": "code",
      "source": [
        "app = Flask(__name__)"
      ],
      "metadata": {
        "id": "5Se4uf4sRIm0"
      },
      "execution_count": 14,
      "outputs": []
    },
    {
      "cell_type": "code",
      "source": [
        "@app.route('/')\n",
        "def index():\n",
        "    return render_template('/content/index.html')"
      ],
      "metadata": {
        "id": "0jbX3ysBRK1s"
      },
      "execution_count": 15,
      "outputs": []
    },
    {
      "cell_type": "code",
      "source": [
        "@app.route('/result', methods=['POST'])\n",
        "def result():\n",
        "    try:\n",
        "        if request.method == 'POST':\n",
        "            l=[]\n",
        "            l.append(float(request.form['id']))\n",
        "            l.append(float(request.form['cycle']))\n",
        "            l.append(float(request.form['set1']))\n",
        "            l.append(float(request.form['set2']))\n",
        "            l.append(float(request.form['set3']))\n",
        "            l.append(float(request.form['s1']))\n",
        "            l.append(float(request.form['s2']))\n",
        "            l.append(float(request.form['s3']))\n",
        "            l.append(float(request.form['s4']))\n",
        "            l.append(float(request.form['s5']))\n",
        "            l.append(float(request.form['s6']))\n",
        "            l.append(float(request.form['s7']))\n",
        "            l.append(float(request.form['s8']))\n",
        "            l.append(float(request.form['s9']))\n",
        "            l.append(float(request.form['s10']))\n",
        "            l.append(float(request.form['s11']))\n",
        "            l.append(float(request.form['s12']))\n",
        "            l.append(float(request.form['s13']))\n",
        "            l.append(float(request.form['s14']))\n",
        "            l.append(float(request.form['s15']))\n",
        "            l.append(float(request.form['s16']))\n",
        "            l.append(float(request.form['s17']))\n",
        "            l.append(float(request.form['s18']))\n",
        "            l.append(float(request.form['s19']))\n",
        "            l.append(float(request.form['s20']))\n",
        "            l.append(float(request.form['s21']))\n",
        "            print(l)\n",
        "            if predict(l):\n",
        "                return render_template('/content/result.html',data=\"problem\")\n",
        "            else:\n",
        "                return render_template('/content/result.html',data=\"normal\")\n",
        "    except:\n",
        "        return render_template('/content/result.html',data=\"error\")"
      ],
      "metadata": {
        "id": "WPqB-k2oR2fM"
      },
      "execution_count": 16,
      "outputs": []
    },
    {
      "cell_type": "code",
      "source": [
        "runfile"
      ],
      "metadata": {
        "id": "KdjGNvygSSZR",
        "outputId": "82913115-2255-4162-ff3a-63fa719b2c77",
        "colab": {
          "base_uri": "https://localhost:8080/"
        }
      },
      "execution_count": 17,
      "outputs": [
        {
          "output_type": "execute_result",
          "data": {
            "text/plain": [
              "<function _pydev_bundle.pydev_umd.runfile(filename, args=None, wdir=None, namespace=None)>"
            ]
          },
          "metadata": {},
          "execution_count": 17
        }
      ]
    }
  ],
  "metadata": {
    "colab": {
      "collapsed_sections": [],
      "name": "Welcome To Colaboratory",
      "provenance": []
    },
    "kernelspec": {
      "display_name": "Python 3",
      "name": "python3"
    }
  },
  "nbformat": 4,
  "nbformat_minor": 0
}
